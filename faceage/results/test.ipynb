{
 "cells": [
  {
   "cell_type": "markdown",
   "metadata": {},
   "source": [
    "# performance comparison"
   ]
  },
  {
   "cell_type": "code",
   "execution_count": null,
   "metadata": {},
   "outputs": [],
   "source": [
    "import re\n",
    "import numpy as np\n",
    "from decimal import Decimal, ROUND_HALF_UP, ROUND_HALF_EVEN"
   ]
  },
  {
   "cell_type": "code",
   "execution_count": null,
   "metadata": {},
   "outputs": [],
   "source": [
    "datasets = ['morph2', 'cacd', 'afad']\n",
    "methods  = ['ordered-SVOR','SVOR','ordered-NLL','NLL','ordered-ANLCL','ANLCL','AD']\n",
    "TNUM = 20\n",
    "RES_A, MEA_A, STD_A = np.zeros((3,20,TNUM)), np.zeros((3,20)), np.zeros((3,20))\n",
    "RES_S, MEA_S, STD_S = np.zeros((3,20,TNUM)), np.zeros((3,20)), np.zeros((3,20))"
   ]
  },
  {
   "cell_type": "code",
   "execution_count": null,
   "metadata": {},
   "outputs": [],
   "source": [
    "for M in [0,6]:\n",
    "    m = methods[M]\n",
    "    for D in [0,1,2]:\n",
    "        d = datasets[D]\n",
    "        for seed in range(TNUM):\n",
    "            #print(M,D,seed)\n",
    "            path = '../' + d + '/MTM/' + m + '/seed' + str(seed) + '/training.log'\n",
    "            with open(path) as f: l1 = f.readlines()\n",
    "            #\n",
    "            if M==0:\n",
    "                MST_A = re.split('[/ ]', re.split('[,]', l1[-5])[-2])\n",
    "                MST_S = re.split('[/ ]', re.split('[,]', l1[-4])[-2])\n",
    "                IOT_A = re.split('[/ ]', re.split('[,]', l1[-2])[-2])\n",
    "                IOT_S = re.split('[/ ]', re.split('[,]', l1[-1])[-2])\n",
    "                RES_A[D,0,seed] = MST_A[-2]\n",
    "                RES_S[D,0,seed] = MST_S[-1]\n",
    "                RES_A[D,1,seed] = IOT_A[-2]\n",
    "                RES_S[D,1,seed] = IOT_S[-1]\n",
    "            if M==6:\n",
    "                NN_A = re.split('[/ ]', l1[-5])\n",
    "                NN_S = re.split('[/ ]', l1[-4])\n",
    "                IOT_A = re.split('[/ ]', re.split('[,]', l1[-2])[-2])\n",
    "                IOT_S = re.split('[/ ]', re.split('[,]', l1[-1])[-2])\n",
    "                RES_A[D,18,seed] = NN_A[-2]\n",
    "                RES_S[D,18,seed] = NN_S[-1]\n",
    "                RES_A[D,19,seed] = IOT_A[-2]\n",
    "                RES_S[D,19,seed] = IOT_S[-1]"
   ]
  },
  {
   "cell_type": "code",
   "execution_count": null,
   "metadata": {},
   "outputs": [],
   "source": [
    "for M in [2,3,4]:\n",
    "    m = methods[M]\n",
    "    for D in [0,1,2]:\n",
    "        d = datasets[D]\n",
    "        for seed in range(TNUM):\n",
    "            #print(M,D,seed)\n",
    "            path = '../' + d + '/MTM/' + m + '/seed' + str(seed) + '/training.log'\n",
    "            with open(path) as f: l1 = f.readlines()\n",
    "            MST_A = re.split('[/ ]', re.split('[,]', l1[-5])[-2])\n",
    "            MST_S = re.split('[/ ]', re.split('[,]', l1[-4])[-2])\n",
    "            LB_A = re.split('[/ ]', l1[-8])\n",
    "            LB_S = re.split('[/ ]', l1[-7])\n",
    "            IOT_A = re.split('[/ ]', re.split('[,]', l1[-2])[-2])\n",
    "            IOT_S = re.split('[/ ]', re.split('[,]', l1[-1])[-2])\n",
    "            #\n",
    "            RES_A[D,5+3*(M-2),seed] = MST_A[-2]\n",
    "            RES_S[D,5+3*(M-2),seed] = MST_S[-1]\n",
    "            RES_A[D,6+3*(M-2),seed] = LB_A[-2]\n",
    "            RES_S[D,6+3*(M-2),seed] = LB_S[-1]\n",
    "            RES_A[D,7+3*(M-2),seed] = IOT_A[-2]\n",
    "            RES_S[D,7+3*(M-2),seed] = IOT_S[-1]"
   ]
  },
  {
   "cell_type": "code",
   "execution_count": null,
   "metadata": {},
   "outputs": [],
   "source": [
    "for M in [1]:\n",
    "    m = methods[M]\n",
    "    for D in [0,1,2]:\n",
    "        d = datasets[D]\n",
    "        for seed in range(TNUM):\n",
    "            #print(M,D,seed)\n",
    "            path = '../' + d + '/MTM/' + m + '/seed' + str(seed) + '/training.log'\n",
    "            with open(path) as f: l1 = f.readlines()\n",
    "            MT_A  = re.split('[/ ]', re.split('[,]', l1[-8])[-2])\n",
    "            MT_S  = re.split('[/ ]', re.split('[,]', l1[-7])[-2])\n",
    "            ST_A  = re.split('[/ ]', re.split('[,]', l1[-5])[-2])\n",
    "            ST_S  = re.split('[/ ]', re.split('[,]', l1[-4])[-2])\n",
    "            IOT_A = re.split('[/ ]', re.split('[,]', l1[-2])[-2])\n",
    "            IOT_S = re.split('[/ ]', re.split('[,]', l1[-1])[-2])\n",
    "            #\n",
    "            RES_A[D,2,seed] = MT_A[-2]\n",
    "            RES_S[D,2,seed] = MT_S[-1]\n",
    "            RES_A[D,3,seed] = ST_A[-2]\n",
    "            RES_S[D,3,seed] = ST_S[-1]\n",
    "            RES_A[D,4,seed] = IOT_A[-2]\n",
    "            RES_S[D,4,seed] = IOT_S[-1]"
   ]
  },
  {
   "cell_type": "code",
   "execution_count": null,
   "metadata": {},
   "outputs": [],
   "source": [
    "for M in [5]:\n",
    "    m = methods[M]\n",
    "    for D in [0,1,2]:\n",
    "        d = datasets[D]\n",
    "        for seed in range(TNUM):\n",
    "            #print(M,D,seed)\n",
    "            path = '../' + d + '/MTM/' + m + '/seed' + str(seed) + '/training.log'\n",
    "            with open(path) as f: l1 = f.readlines()\n",
    "            MT_A = re.split('[/ ]', re.split('[,]', l1[-8])[-2])\n",
    "            MT_S = re.split('[/ ]', re.split('[,]', l1[-7])[-2])\n",
    "            ST_A = re.split('[/ ]', re.split('[,]', l1[-5])[-2])\n",
    "            ST_S = re.split('[/ ]', re.split('[,]', l1[-4])[-2])\n",
    "            LB_A = re.split('[/ ]', l1[-11])\n",
    "            LB_S = re.split('[/ ]', l1[-10])\n",
    "            IOT_A = re.split('[/ ]', re.split('[,]', l1[-2])[-2])\n",
    "            IOT_S = re.split('[/ ]', re.split('[,]', l1[-1])[-2])\n",
    "            #\n",
    "            RES_A[D,14,seed] = MT_A[-2]\n",
    "            RES_S[D,14,seed] = MT_S[-1]\n",
    "            RES_A[D,15,seed] = ST_A[-2]\n",
    "            RES_S[D,15,seed] = ST_S[-1]\n",
    "            RES_A[D,16,seed] = LB_A[-2]\n",
    "            RES_S[D,16,seed] = LB_S[-1]\n",
    "            RES_A[D,17,seed] = IOT_A[-2]\n",
    "            RES_S[D,17,seed] = IOT_S[-1]"
   ]
  },
  {
   "cell_type": "code",
   "execution_count": null,
   "metadata": {},
   "outputs": [],
   "source": [
    "for D in [0,1,2]:\n",
    "    for M in range(20):\n",
    "        MEA_A[D,M] = np.mean(RES_A[D,M,:])\n",
    "        MEA_S[D,M] = np.mean(RES_S[D,M,:])\n",
    "        STD_A[D,M] = np.std(RES_A[D,M,:])\n",
    "        STD_S[D,M] = np.std(RES_S[D,M,:])"
   ]
  },
  {
   "cell_type": "code",
   "execution_count": null,
   "metadata": {},
   "outputs": [],
   "source": [
    "for M in range(20):\n",
    "    for D in [0,1,2]:\n",
    "        print(\"$%.3f\\pm%.3f$ & \"%(\n",
    "            Decimal(str(MEA_A[D,M])).quantize(Decimal('0.0001'), rounding=ROUND_HALF_UP),\n",
    "            Decimal(str(STD_A[D,M])).quantize(Decimal('0.0001'), rounding=ROUND_HALF_UP)),end='')\n",
    "        print(\"$%.3f\\pm%.3f$ & \"%(\n",
    "            Decimal(str(MEA_S[D,M])).quantize(Decimal('0.0001'), rounding=ROUND_HALF_UP),\n",
    "            Decimal(str(STD_S[D,M])).quantize(Decimal('0.0001'), rounding=ROUND_HALF_UP)),end='')\n",
    "    print(\"\")"
   ]
  },
  {
   "cell_type": "code",
   "execution_count": null,
   "metadata": {},
   "outputs": [],
   "source": [
    "for D in [0,1,2]:\n",
    "    print(\"%d\"%(np.argmin(MEA_A[D,:])))\n",
    "    print(\"%d\"%(np.argmin(MEA_S[D,:])))"
   ]
  },
  {
   "cell_type": "markdown",
   "metadata": {},
   "source": [
    "# test"
   ]
  },
  {
   "cell_type": "code",
   "execution_count": null,
   "metadata": {},
   "outputs": [],
   "source": [
    "from scipy import stats"
   ]
  },
  {
   "cell_type": "code",
   "execution_count": null,
   "metadata": {},
   "outputs": [],
   "source": [
    "for D in [0,1,2]:\n",
    "    print(D,np.argmin(np.array([MEA_A[D,0],MEA_A[D,1]])),end=\"  \")\n",
    "    print(\"%.4f\"%stats.mannwhitneyu(RES_A[D,0,:], RES_A[D,1,:], alternative='greater').pvalue,end=\"  \")\n",
    "\n",
    "    print(D,np.argmin(np.array([MEA_S[D,0],MEA_S[D,1]])),end=\"  \")\n",
    "    print(\"%.4f\"%stats.mannwhitneyu(RES_S[D,0,:], RES_S[D,1,:], alternative='greater').pvalue)"
   ]
  },
  {
   "cell_type": "code",
   "execution_count": null,
   "metadata": {},
   "outputs": [],
   "source": [
    "for D in [0,1,2]:\n",
    "    print(D,np.argmin(np.array([MEA_A[D,2],MEA_A[D,3],MEA_A[D,4]])),end=\"  \")\n",
    "    print(\"%.4f\"%stats.mannwhitneyu(RES_A[D,2,:], RES_A[D,3,:], alternative='greater').pvalue,end=\"  \")\n",
    "    print(\"%.4f\"%stats.mannwhitneyu(RES_A[D,2,:], RES_A[D,4,:], alternative='greater').pvalue,end=\"  \")\n",
    "    print(\"%.4f\"%stats.mannwhitneyu(RES_A[D,3,:], RES_A[D,4,:], alternative='greater').pvalue,end=\"  \")\n",
    "\n",
    "    print(D,np.argmin(np.array([MEA_S[D,2],MEA_S[D,3],MEA_S[D,4]])),end=\"  \")\n",
    "    print(\"%.4f\"%stats.mannwhitneyu(RES_S[D,2,:], RES_S[D,3,:], alternative='greater').pvalue,end=\"  \")\n",
    "    print(\"%.4f\"%stats.mannwhitneyu(RES_S[D,2,:], RES_S[D,4,:], alternative='greater').pvalue,end=\"  \")\n",
    "    print(\"%.4f\"%stats.mannwhitneyu(RES_S[D,3,:], RES_S[D,4,:], alternative='greater').pvalue)"
   ]
  },
  {
   "cell_type": "code",
   "execution_count": null,
   "metadata": {},
   "outputs": [],
   "source": [
    "for D in [0,1,2]:\n",
    "    print(D,np.argmin(np.array([MEA_A[D,5],MEA_A[D,6],MEA_A[D,7]])),end=\"  \")\n",
    "    print(\"%.4f\"%stats.mannwhitneyu(RES_A[D,5,:], RES_A[D,6,:], alternative='greater').pvalue,end=\"  \")\n",
    "    print(\"%.4f\"%stats.mannwhitneyu(RES_A[D,5,:], RES_A[D,7,:], alternative='greater').pvalue,end=\"  \")\n",
    "    print(\"%.4f\"%stats.mannwhitneyu(RES_A[D,6,:], RES_A[D,7,:], alternative='greater').pvalue,end=\"  \")\n",
    "\n",
    "    print(D,np.argmin(np.array([MEA_S[D,5],MEA_S[D,6],MEA_S[D,7]])),end=\"  \")\n",
    "    print(\"%.4f\"%stats.mannwhitneyu(RES_S[D,5,:], RES_S[D,6,:], alternative='greater').pvalue,end=\"  \")\n",
    "    print(\"%.4f\"%stats.mannwhitneyu(RES_S[D,5,:], RES_S[D,7,:], alternative='greater').pvalue,end=\"  \")\n",
    "    print(\"%.4f\"%stats.mannwhitneyu(RES_S[D,6,:], RES_S[D,7,:], alternative='greater').pvalue)"
   ]
  },
  {
   "cell_type": "code",
   "execution_count": null,
   "metadata": {},
   "outputs": [],
   "source": [
    "for D in [0,1,2]:\n",
    "    print(D,np.argmin(np.array([MEA_A[D,8],MEA_A[D,9],MEA_A[D,10]])),end=\"  \")\n",
    "    print(\"%.4f\"%stats.mannwhitneyu(RES_A[D,8,:], RES_A[D,9,:], alternative='greater').pvalue,end=\"  \")\n",
    "    print(\"%.4f\"%stats.mannwhitneyu(RES_A[D,8,:], RES_A[D,10,:], alternative='greater').pvalue,end=\"  \")\n",
    "    print(\"%.4f\"%stats.mannwhitneyu(RES_A[D,9,:], RES_A[D,10,:], alternative='greater').pvalue,end=\"  \")\n",
    "\n",
    "    print(D,np.argmin(np.array([MEA_S[D,8],MEA_S[D,9],MEA_S[D,10]])),end=\"  \")\n",
    "    print(\"%.4f\"%stats.mannwhitneyu(RES_S[D,8,:], RES_S[D,9,:], alternative='greater').pvalue,end=\"  \")\n",
    "    print(\"%.4f\"%stats.mannwhitneyu(RES_S[D,8,:], RES_S[D,10,:], alternative='greater').pvalue,end=\"  \")\n",
    "    print(\"%.4f\"%stats.mannwhitneyu(RES_S[D,9,:], RES_S[D,10,:], alternative='greater').pvalue)"
   ]
  },
  {
   "cell_type": "code",
   "execution_count": null,
   "metadata": {},
   "outputs": [],
   "source": [
    "for D in [0,1,2]:\n",
    "    print(D,np.argmin(np.array([MEA_A[D,11],MEA_A[D,12],MEA_A[D,13]])),end=\"  \")\n",
    "    print(\"%.4f\"%stats.mannwhitneyu(RES_A[D,11,:], RES_A[D,12,:], alternative='greater').pvalue,end=\"  \")\n",
    "    print(\"%.4f\"%stats.mannwhitneyu(RES_A[D,11,:], RES_A[D,13,:], alternative='greater').pvalue,end=\"  \")\n",
    "    print(\"%.4f\"%stats.mannwhitneyu(RES_A[D,12,:], RES_A[D,13,:], alternative='greater').pvalue,end=\"  \")\n",
    "\n",
    "    print(D,np.argmin(np.array([MEA_S[D,11],MEA_S[D,12],MEA_S[D,13]])),end=\"  \")\n",
    "    print(\"%.4f\"%stats.mannwhitneyu(RES_S[D,11,:], RES_S[D,12,:], alternative='greater').pvalue,end=\"  \")\n",
    "    print(\"%.4f\"%stats.mannwhitneyu(RES_S[D,11,:], RES_S[D,13,:], alternative='greater').pvalue,end=\"  \")\n",
    "    print(\"%.4f\"%stats.mannwhitneyu(RES_S[D,12,:], RES_S[D,13,:], alternative='greater').pvalue)"
   ]
  },
  {
   "cell_type": "code",
   "execution_count": null,
   "metadata": {},
   "outputs": [],
   "source": [
    "for D in [0,1,2]:\n",
    "    print(D,np.argmin(np.array([MEA_A[D,14],MEA_A[D,15],MEA_A[D,16],MEA_A[D,17]])),end=\"  \")\n",
    "    print(\"%.4f\"%stats.mannwhitneyu(RES_A[D,14,:], RES_A[D,15,:], alternative='greater').pvalue,end=\"  \")\n",
    "    print(\"%.4f\"%stats.mannwhitneyu(RES_A[D,14,:], RES_A[D,16,:], alternative='greater').pvalue,end=\"  \")\n",
    "    print(\"%.4f\"%stats.mannwhitneyu(RES_A[D,14,:], RES_A[D,17,:], alternative='greater').pvalue,end=\"  \")\n",
    "    print(\"%.4f\"%stats.mannwhitneyu(RES_A[D,15,:], RES_A[D,16,:], alternative='greater').pvalue,end=\"  \")\n",
    "    print(\"%.4f\"%stats.mannwhitneyu(RES_A[D,15,:], RES_A[D,17,:], alternative='greater').pvalue,end=\"  \")\n",
    "    print(\"%.4f\"%stats.mannwhitneyu(RES_A[D,16,:], RES_A[D,17,:], alternative='greater').pvalue,end=\"  \")\n",
    "\n",
    "    print(D,np.argmin(np.array([MEA_S[D,14],MEA_S[D,15],MEA_S[D,16],MEA_S[D,17]])),end=\"  \")\n",
    "    print(\"%.4f\"%stats.mannwhitneyu(RES_S[D,14,:], RES_S[D,15,:], alternative='greater').pvalue,end=\"  \")\n",
    "    print(\"%.4f\"%stats.mannwhitneyu(RES_S[D,14,:], RES_S[D,16,:], alternative='greater').pvalue,end=\"  \")\n",
    "    print(\"%.4f\"%stats.mannwhitneyu(RES_S[D,14,:], RES_S[D,17,:], alternative='greater').pvalue,end=\"  \")\n",
    "    print(\"%.4f\"%stats.mannwhitneyu(RES_S[D,15,:], RES_S[D,16,:], alternative='greater').pvalue,end=\"  \")\n",
    "    print(\"%.4f\"%stats.mannwhitneyu(RES_S[D,15,:], RES_S[D,17,:], alternative='greater').pvalue,end=\"  \")\n",
    "    print(\"%.4f\"%stats.mannwhitneyu(RES_S[D,16,:], RES_S[D,17,:], alternative='greater').pvalue)"
   ]
  },
  {
   "cell_type": "code",
   "execution_count": null,
   "metadata": {},
   "outputs": [],
   "source": [
    "for D in [0,1,2]:\n",
    "    print(D,np.argmin(np.array([MEA_A[D,18],MEA_A[D,19]])),end=\"  \")\n",
    "    print(\"%.4f\"%stats.mannwhitneyu(RES_A[D,18,:], RES_A[D,19,:], alternative='greater').pvalue,end=\"  \")\n",
    "\n",
    "    print(D,np.argmin(np.array([MEA_S[D,18],MEA_S[D,19]])),end=\"  \")\n",
    "    print(\"%.4f\"%stats.mannwhitneyu(RES_S[D,18,:], RES_S[D,19,:], alternative='greater').pvalue)"
   ]
  },
  {
   "cell_type": "markdown",
   "metadata": {},
   "source": [
    "# order of threshold parameters"
   ]
  },
  {
   "cell_type": "code",
   "execution_count": null,
   "metadata": {},
   "outputs": [],
   "source": [
    "RES, MEA, STD = np.zeros((3,12,TNUM)), np.zeros((3,12)), np.zeros((3,12))"
   ]
  },
  {
   "cell_type": "code",
   "execution_count": null,
   "metadata": {},
   "outputs": [],
   "source": [
    "for M in [0,1,2,3,4,5]:\n",
    "    m = methods[M]\n",
    "    for D in [0,1,2]:\n",
    "        d = datasets[D]\n",
    "        for seed in range(TNUM):\n",
    "            path = '../' + d + '/MTM/' + m + '/seed' + str(seed) + '/training.log'\n",
    "            with open(path) as f: l1 = f.readlines()\n",
    "            ROT_A = re.split('[/]', l1[-2])\n",
    "            ROT_S = re.split('[/]', l1[-1])\n",
    "            #\n",
    "            RES[D,2*M,seed] = ROT_A[-2]\n",
    "            RES[D,2*M+1,seed] = ROT_S[-1]"
   ]
  },
  {
   "cell_type": "code",
   "execution_count": null,
   "metadata": {},
   "outputs": [],
   "source": [
    "for D in [0,1,2]:\n",
    "    for M in range(12):\n",
    "        MEA[D,M] = np.mean(RES[D,M,:])\n",
    "        STD[D,M] = np.std(RES[D,M,:])"
   ]
  },
  {
   "cell_type": "code",
   "execution_count": null,
   "metadata": {},
   "outputs": [],
   "source": [
    "for M in [0,1,2,3,4,5]:\n",
    "    for D in [0,1,2]:\n",
    "        print(\"$%.2f\\pm%.2f$ & \"%(\n",
    "            Decimal(str(MEA[D,2*M])).quantize(Decimal('0.001'), rounding=ROUND_HALF_UP),\n",
    "            Decimal(str(STD[D,2*M])).quantize(Decimal('0.001'), rounding=ROUND_HALF_UP)),end='')\n",
    "        print(\"$%.2f\\pm%.2f$ & \"%(\n",
    "            Decimal(str(MEA[D,2*M+1])).quantize(Decimal('0.001'), rounding=ROUND_HALF_UP),\n",
    "            Decimal(str(STD[D,2*M+1])).quantize(Decimal('0.001'), rounding=ROUND_HALF_UP)),end='')\n",
    "    print(\"\")"
   ]
  },
  {
   "cell_type": "code",
   "execution_count": null,
   "metadata": {},
   "outputs": [],
   "source": []
  }
 ],
 "metadata": {
  "kernelspec": {
   "display_name": "Python 3 (ipykernel)",
   "language": "python",
   "name": "python3"
  },
  "language_info": {
   "codemirror_mode": {
    "name": "ipython",
    "version": 3
   },
   "file_extension": ".py",
   "mimetype": "text/x-python",
   "name": "python",
   "nbconvert_exporter": "python",
   "pygments_lexer": "ipython3",
   "version": "3.7.13"
  }
 },
 "nbformat": 4,
 "nbformat_minor": 4
}
