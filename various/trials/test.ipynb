{
 "cells": [
  {
   "cell_type": "markdown",
   "id": "783aa931",
   "metadata": {},
   "source": [
    "# performance comparison"
   ]
  },
  {
   "cell_type": "code",
   "execution_count": null,
   "id": "a4e5375c",
   "metadata": {},
   "outputs": [],
   "source": [
    "import numpy as np\n",
    "\n",
    "ml1 = [27,27,36,36,36,36,18]\n",
    "ml2 = [[0,2],[0,1,2],[1,0,3],[1,0,3],[1,0,3],[1,2,0,3],[0,1]]"
   ]
  },
  {
   "cell_type": "code",
   "execution_count": null,
   "id": "fcb33db2",
   "metadata": {},
   "outputs": [],
   "source": [
    "MEA_A = np.zeros((5,20))\n",
    "RES_A = np.zeros((5,20,20))\n",
    "j=0\n",
    "for m in range(7):\n",
    "    me = [\"ODOB_SVORIT\",\"ODB_SVORIT\",\"POOCL_NLL\",\"POCL_NLL\",\"ODOB_POCLAT\",\"ODB_POCLAT\",\"AD\"][m]\n",
    "    for i in ml2[m]:\n",
    "        for d in range(5):\n",
    "            de = [\"LEV\",\"ERA\",\"SWD\",\"winequality-red\",\"car\"][d]\n",
    "            tmp = np.loadtxt(\"./Results/%s-%s.csv\"%(me,de), delimiter=\",\")\n",
    "            print(\"$%.3f_{%.3f}$\"%(np.mean(tmp[:20,int(ml1[m]/3*2+3*i+1)]),np.std(tmp[:20,int(ml1[m]/3*2+3*i+1)])), end=\" & \")\n",
    "            MEA_A[d,j] = np.mean(tmp[:20,int(ml1[m]/3*2+3*i+1)])\n",
    "            RES_A[d,j,:] = tmp[:20,int(ml1[m]/3*2+3*i+1)]\n",
    "        print(\"\")\n",
    "        j+=1\n",
    "    print(\"\")"
   ]
  },
  {
   "cell_type": "code",
   "execution_count": null,
   "id": "ca9d8102",
   "metadata": {},
   "outputs": [],
   "source": [
    "for d in range(5):\n",
    "    for i in range(20):\n",
    "        if np.min(MEA_A[d,:])==MEA_A[d,i]:\n",
    "            print(i, end=\" \")\n",
    "    print()"
   ]
  },
  {
   "cell_type": "code",
   "execution_count": null,
   "id": "40cd0333",
   "metadata": {},
   "outputs": [],
   "source": [
    "MEA_S = np.zeros((5,20))\n",
    "RES_S = np.zeros((5,20,20))\n",
    "j=0\n",
    "for m in range(7):\n",
    "    me = [\"ODOB_SVORIT\",\"ODB_SVORIT\",\"POOCL_NLL\",\"POCL_NLL\",\"ODOB_POCLAT\",\"ODB_POCLAT\",\"AD\"][m]\n",
    "    for i in ml2[m]:\n",
    "        for d in range(5):\n",
    "            de = [\"LEV\",\"ERA\",\"SWD\",\"winequality-red\",\"car\"][d]\n",
    "            tmp = np.loadtxt(\"./Results/%s-%s.csv\"%(me,de), delimiter=\",\")\n",
    "            print(\"$%.3f_{%.3f}$\"%(np.mean(np.sqrt(tmp[:20,int(ml1[m]/3*2+3*i+2)])),np.std(np.sqrt(tmp[:20,int(ml1[m]/3*2+3*i+2)]))), end=\" & \")\n",
    "            MEA_S[d,j] = np.mean(np.sqrt(tmp[:20,int(ml1[m]/3*2+3*i+2)]))\n",
    "            RES_S[d,j,:] = np.sqrt(tmp[:20,int(ml1[m]/3*2+3*i+2)])\n",
    "        print(\"\")\n",
    "        j+=1\n",
    "    print(\"\")"
   ]
  },
  {
   "cell_type": "code",
   "execution_count": null,
   "id": "e91fedfa",
   "metadata": {},
   "outputs": [],
   "source": [
    "for d in range(5):\n",
    "    for i in range(20):\n",
    "        if np.min(MEA_S[d,:])==MEA_S[d,i]:\n",
    "            print(i, end=\" \")\n",
    "    print()"
   ]
  },
  {
   "cell_type": "markdown",
   "id": "344b8223",
   "metadata": {},
   "source": [
    "# test"
   ]
  },
  {
   "cell_type": "code",
   "execution_count": null,
   "id": "c094867e",
   "metadata": {},
   "outputs": [],
   "source": [
    "from scipy import stats"
   ]
  },
  {
   "cell_type": "code",
   "execution_count": null,
   "id": "1e780269",
   "metadata": {},
   "outputs": [],
   "source": [
    "for D in range(5):\n",
    "    print(D,np.argmin(np.array([MEA_A[D,0],MEA_A[D,1]])),end=\"  \")\n",
    "    print(\"%.4f\"%stats.mannwhitneyu(RES_A[D,0,:], RES_A[D,1,:], alternative='greater').pvalue,end=\"  \")\n",
    "\n",
    "    print(D,np.argmin(np.array([MEA_S[D,0],MEA_S[D,1]])),end=\"  \")\n",
    "    print(\"%.4f\"%stats.mannwhitneyu(RES_S[D,0,:], RES_S[D,1,:], alternative='greater').pvalue)"
   ]
  },
  {
   "cell_type": "code",
   "execution_count": null,
   "id": "4db93312",
   "metadata": {},
   "outputs": [],
   "source": [
    "for D in range(5):\n",
    "    print(D,np.argmin(np.array([MEA_A[D,2],MEA_A[D,3],MEA_A[D,4]])),end=\"  \")\n",
    "    print(\"%.4f\"%stats.mannwhitneyu(RES_A[D,2,:], RES_A[D,3,:], alternative='greater').pvalue,end=\"  \")\n",
    "    print(\"%.4f\"%stats.mannwhitneyu(RES_A[D,2,:], RES_A[D,4,:], alternative='greater').pvalue,end=\"  \")\n",
    "    print(\"%.4f\"%stats.mannwhitneyu(RES_A[D,3,:], RES_A[D,4,:], alternative='greater').pvalue,end=\"  \")\n",
    "\n",
    "    print(D,np.argmin(np.array([MEA_S[D,2],MEA_S[D,3],MEA_S[D,4]])),end=\"  \")\n",
    "    print(\"%.4f\"%stats.mannwhitneyu(RES_S[D,2,:], RES_S[D,3,:], alternative='greater').pvalue,end=\"  \")\n",
    "    print(\"%.4f\"%stats.mannwhitneyu(RES_S[D,2,:], RES_S[D,4,:], alternative='greater').pvalue,end=\"  \")\n",
    "    print(\"%.4f\"%stats.mannwhitneyu(RES_S[D,3,:], RES_S[D,4,:], alternative='greater').pvalue)"
   ]
  },
  {
   "cell_type": "code",
   "execution_count": null,
   "id": "93a30d7f",
   "metadata": {},
   "outputs": [],
   "source": [
    "for D in range(5):\n",
    "    print(D,np.argmin(np.array([MEA_A[D,5],MEA_A[D,6],MEA_A[D,7]])),end=\"  \")\n",
    "    print(\"%.4f\"%stats.mannwhitneyu(RES_A[D,5,:], RES_A[D,6,:], alternative='greater').pvalue,end=\"  \")\n",
    "    print(\"%.4f\"%stats.mannwhitneyu(RES_A[D,5,:], RES_A[D,7,:], alternative='greater').pvalue,end=\"  \")\n",
    "    print(\"%.4f\"%stats.mannwhitneyu(RES_A[D,6,:], RES_A[D,7,:], alternative='greater').pvalue,end=\"  \")\n",
    "\n",
    "    print(D,np.argmin(np.array([MEA_S[D,5],MEA_S[D,6],MEA_S[D,7]])),end=\"  \")\n",
    "    print(\"%.4f\"%stats.mannwhitneyu(RES_S[D,5,:], RES_S[D,6,:], alternative='greater').pvalue,end=\"  \")\n",
    "    print(\"%.4f\"%stats.mannwhitneyu(RES_S[D,5,:], RES_S[D,7,:], alternative='greater').pvalue,end=\"  \")\n",
    "    print(\"%.4f\"%stats.mannwhitneyu(RES_S[D,6,:], RES_S[D,7,:], alternative='greater').pvalue)"
   ]
  },
  {
   "cell_type": "code",
   "execution_count": null,
   "id": "833ceecb",
   "metadata": {},
   "outputs": [],
   "source": [
    "for D in range(5):\n",
    "    print(D,np.argmin(np.array([MEA_A[D,8],MEA_A[D,9],MEA_A[D,10]])),end=\"  \")\n",
    "    print(\"%.4f\"%stats.mannwhitneyu(RES_A[D,8,:], RES_A[D,9,:], alternative='greater').pvalue,end=\"  \")\n",
    "    print(\"%.4f\"%stats.mannwhitneyu(RES_A[D,8,:], RES_A[D,10,:], alternative='greater').pvalue,end=\"  \")\n",
    "    print(\"%.4f\"%stats.mannwhitneyu(RES_A[D,9,:], RES_A[D,10,:], alternative='greater').pvalue,end=\"  \")\n",
    "\n",
    "    print(D,np.argmin(np.array([MEA_S[D,8],MEA_S[D,9],MEA_S[D,10]])),end=\"  \")\n",
    "    print(\"%.4f\"%stats.mannwhitneyu(RES_S[D,8,:], RES_S[D,9,:], alternative='greater').pvalue,end=\"  \")\n",
    "    print(\"%.4f\"%stats.mannwhitneyu(RES_S[D,8,:], RES_S[D,10,:], alternative='greater').pvalue,end=\"  \")\n",
    "    print(\"%.4f\"%stats.mannwhitneyu(RES_S[D,9,:], RES_S[D,10,:], alternative='greater').pvalue)"
   ]
  },
  {
   "cell_type": "code",
   "execution_count": null,
   "id": "ab9136d2",
   "metadata": {},
   "outputs": [],
   "source": [
    "for D in range(5):\n",
    "    print(D,np.argmin(np.array([MEA_A[D,11],MEA_A[D,12],MEA_A[D,13]])),end=\"  \")\n",
    "    print(\"%.4f\"%stats.mannwhitneyu(RES_A[D,11,:], RES_A[D,12,:], alternative='greater').pvalue,end=\"  \")\n",
    "    print(\"%.4f\"%stats.mannwhitneyu(RES_A[D,11,:], RES_A[D,13,:], alternative='greater').pvalue,end=\"  \")\n",
    "    print(\"%.4f\"%stats.mannwhitneyu(RES_A[D,12,:], RES_A[D,13,:], alternative='greater').pvalue,end=\"  \")\n",
    "\n",
    "    print(D,np.argmin(np.array([MEA_S[D,11],MEA_S[D,12],MEA_S[D,13]])),end=\"  \")\n",
    "    print(\"%.4f\"%stats.mannwhitneyu(RES_S[D,11,:], RES_S[D,12,:], alternative='greater').pvalue,end=\"  \")\n",
    "    print(\"%.4f\"%stats.mannwhitneyu(RES_S[D,11,:], RES_S[D,13,:], alternative='greater').pvalue,end=\"  \")\n",
    "    print(\"%.4f\"%stats.mannwhitneyu(RES_S[D,12,:], RES_S[D,13,:], alternative='greater').pvalue)"
   ]
  },
  {
   "cell_type": "code",
   "execution_count": null,
   "id": "57d75803",
   "metadata": {},
   "outputs": [],
   "source": [
    "for D in range(5):\n",
    "    print(D,np.argmin(np.array([MEA_A[D,14],MEA_A[D,15],MEA_A[D,16],MEA_A[D,17]])),end=\"  \")\n",
    "    print(\"%.4f\"%stats.mannwhitneyu(RES_A[D,14,:], RES_A[D,15,:], alternative='greater').pvalue,end=\"  \")\n",
    "    print(\"%.4f\"%stats.mannwhitneyu(RES_A[D,14,:], RES_A[D,16,:], alternative='greater').pvalue,end=\"  \")\n",
    "    print(\"%.4f\"%stats.mannwhitneyu(RES_A[D,14,:], RES_A[D,17,:], alternative='greater').pvalue,end=\"  \")\n",
    "    print(\"%.4f\"%stats.mannwhitneyu(RES_A[D,15,:], RES_A[D,16,:], alternative='greater').pvalue,end=\"  \")\n",
    "    print(\"%.4f\"%stats.mannwhitneyu(RES_A[D,15,:], RES_A[D,17,:], alternative='greater').pvalue,end=\"  \")\n",
    "    print(\"%.4f\"%stats.mannwhitneyu(RES_A[D,16,:], RES_A[D,17,:], alternative='greater').pvalue,end=\"  \")\n",
    "\n",
    "    print(D,np.argmin(np.array([MEA_S[D,14],MEA_S[D,15],MEA_S[D,16],MEA_S[D,17]])),end=\"  \")\n",
    "    print(\"%.4f\"%stats.mannwhitneyu(RES_S[D,14,:], RES_S[D,15,:], alternative='greater').pvalue,end=\"  \")\n",
    "    print(\"%.4f\"%stats.mannwhitneyu(RES_S[D,14,:], RES_S[D,16,:], alternative='greater').pvalue,end=\"  \")\n",
    "    print(\"%.4f\"%stats.mannwhitneyu(RES_S[D,14,:], RES_S[D,17,:], alternative='greater').pvalue,end=\"  \")\n",
    "    print(\"%.4f\"%stats.mannwhitneyu(RES_S[D,15,:], RES_S[D,16,:], alternative='greater').pvalue,end=\"  \")\n",
    "    print(\"%.4f\"%stats.mannwhitneyu(RES_S[D,15,:], RES_S[D,17,:], alternative='greater').pvalue,end=\"  \")\n",
    "    print(\"%.4f\"%stats.mannwhitneyu(RES_S[D,16,:], RES_S[D,17,:], alternative='greater').pvalue)"
   ]
  },
  {
   "cell_type": "code",
   "execution_count": null,
   "id": "7b0c8fe5",
   "metadata": {},
   "outputs": [],
   "source": [
    "for D in range(5):\n",
    "    print(D,np.argmin(np.array([MEA_A[D,18],MEA_A[D,19]])),end=\"  \")\n",
    "    print(\"%.4f\"%stats.mannwhitneyu(RES_A[D,18,:], RES_A[D,19,:], alternative='greater').pvalue,end=\"  \")\n",
    "\n",
    "    print(D,np.argmin(np.array([MEA_S[D,18],MEA_S[D,19]])),end=\"  \")\n",
    "    print(\"%.4f\"%stats.mannwhitneyu(RES_S[D,18,:], RES_S[D,19,:], alternative='greater').pvalue)"
   ]
  },
  {
   "cell_type": "markdown",
   "id": "f3796a00",
   "metadata": {},
   "source": [
    "# order of threshold parameters"
   ]
  },
  {
   "cell_type": "code",
   "execution_count": null,
   "id": "c7466896",
   "metadata": {},
   "outputs": [],
   "source": [
    "for m in range(7):\n",
    "    me = [\"ODOB_SVORIT\",\"ODB_SVORIT\",\"POOCL_NLL\",\"POCL_NLL\",\"ODOB_POCLAT\",\"ODB_POCLAT\",\"AD\"][m]\n",
    "    for d in range(5):\n",
    "        de = [\"LEV\",\"ERA\",\"SWD\",\"winequality-red\",\"car\"][d]\n",
    "        tmp = np.loadtxt(\"./Results/%s-%s.csv\"%(me,de), delimiter=\",\")\n",
    "        print(\"$%.3f_{%.3f}$\"%(np.mean(np.sqrt(tmp[:20,-3])),np.std(tmp[:20,-3])), end=\" & \")\n",
    "    print(\"\")"
   ]
  },
  {
   "cell_type": "code",
   "execution_count": null,
   "id": "262d3a02",
   "metadata": {},
   "outputs": [],
   "source": [
    "for m in range(7):\n",
    "    me = [\"ODOB_SVORIT\",\"ODB_SVORIT\",\"POOCL_NLL\",\"POCL_NLL\",\"ODOB_POCLAT\",\"ODB_POCLAT\",\"AD\"][m]\n",
    "    for d in range(5):\n",
    "        de = [\"LEV\",\"ERA\",\"SWD\",\"winequality-red\",\"car\"][d]\n",
    "        tmp = np.loadtxt(\"./Results/%s-%s.csv\"%(me,de), delimiter=\",\")\n",
    "        print(\"$%.3f_{%.3f}$\"%(np.mean(np.sqrt(tmp[:20,-2])),np.std(tmp[:20,-2])), end=\" & \")\n",
    "    print(\"\")"
   ]
  },
  {
   "cell_type": "code",
   "execution_count": null,
   "id": "304c1a16",
   "metadata": {},
   "outputs": [],
   "source": [
    "for m in range(7):\n",
    "    me = [\"ODOB_SVORIT\",\"ODB_SVORIT\",\"POOCL_NLL\",\"POCL_NLL\",\"ODOB_POCLAT\",\"ODB_POCLAT\",\"AD\"][m]\n",
    "    for d in range(5):\n",
    "        de = [\"LEV\",\"ERA\",\"SWD\",\"winequality-red\",\"car\"][d]\n",
    "        tmp = np.loadtxt(\"./Results/%s-%s.csv\"%(me,de), delimiter=\",\")\n",
    "        print(\"$%.3f_{%.3f}$\"%(np.mean(np.sqrt(tmp[:20,-1])),np.std(tmp[:20,-1])), end=\" & \")\n",
    "    print(\"\")"
   ]
  }
 ],
 "metadata": {
  "kernelspec": {
   "display_name": "Python 3 (ipykernel)",
   "language": "python",
   "name": "python3"
  },
  "language_info": {
   "codemirror_mode": {
    "name": "ipython",
    "version": 3
   },
   "file_extension": ".py",
   "mimetype": "text/x-python",
   "name": "python",
   "nbconvert_exporter": "python",
   "pygments_lexer": "ipython3",
   "version": "3.7.13"
  }
 },
 "nbformat": 4,
 "nbformat_minor": 5
}
