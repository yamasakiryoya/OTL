{
 "cells": [
  {
   "cell_type": "markdown",
   "metadata": {},
   "source": [
    "# Table1"
   ]
  },
  {
   "cell_type": "code",
   "execution_count": 1,
   "metadata": {},
   "outputs": [],
   "source": [
    "import re\n",
    "import numpy as np\n",
    "from decimal import Decimal, ROUND_HALF_UP, ROUND_HALF_EVEN"
   ]
  },
  {
   "cell_type": "code",
   "execution_count": 2,
   "metadata": {},
   "outputs": [],
   "source": [
    "datasets = ['cacd', 'cacd', 'afad']#'morph2', \n",
    "methods1 = ['LRA-1', 'LRA-0.5', 'LRA0', 'LRA0.5', 'LRA1']\n",
    "methods2 = ['LR', 'Niu16', 'Cao20']\n",
    "position = np.array([[-2,-1],[-2,-1],[-4,-3],[-2,-1],[-4,-3],[-2,-1]])\n",
    "RES, MEA, STD = np.zeros((6,6,10)), np.zeros((6,6)), np.zeros((6,6))"
   ]
  },
  {
   "cell_type": "code",
   "execution_count": 3,
   "metadata": {},
   "outputs": [],
   "source": [
    "for dnum in range(len(datasets)):\n",
    "    d = datasets[dnum]\n",
    "    valA, valS = np.zeros((5,10)),np.zeros((5,10))\n",
    "    tesA, tesS = np.zeros((5,10)),np.zeros((5,10))\n",
    "    for mnum in range(len(methods1)):\n",
    "        m = methods1[mnum]\n",
    "        for seed in range(10):\n",
    "            path = '../' + d + '/resnet34/' + m + '/seed' + str(seed) + '/training.log'\n",
    "            with open(path) as f: l1 = f.readlines()\n",
    "            l2 = re.split('[/ ]', l1[-1])\n",
    "            valA[mnum, seed] = float(l2[position[0,0]-5])\n",
    "            valS[mnum, seed] = float(l2[position[0,1]-5])\n",
    "            tesA[mnum, seed] = float(l2[position[0,0]])\n",
    "            tesS[mnum, seed] = float(l2[position[0,1]])\n",
    "    tesA = [tesA[np.argmin(valA, axis=0)[i],i] for i in range(10)]\n",
    "    tesS = [tesS[np.argmin(valS, axis=0)[i],i] for i in range(10)]\n",
    "    RES[0,2*dnum,:], RES[0,2*dnum+1,:] = tesA, tesS\n",
    "    MEA[0,2*dnum],   MEA[0,2*dnum+1]   = np.mean(tesA), np.mean(tesS)\n",
    "    STD[0,2*dnum],   STD[0,2*dnum+1]   = np.std(tesA),  np.std(tesS)\n",
    "    #print(\"Valid-A\", np.argmin(valA, axis=0))\n",
    "    #print(\"Valid-S\", np.argmin(valS, axis=0))"
   ]
  },
  {
   "cell_type": "code",
   "execution_count": 4,
   "metadata": {},
   "outputs": [],
   "source": [
    "for dnum in range(len(datasets)):\n",
    "    d = datasets[dnum]\n",
    "    for mnum in range(len(methods2)):\n",
    "        m = methods2[mnum]\n",
    "        tesA, tesS, tesMA, tesMS = np.zeros(10), np.zeros(10), np.zeros(10), np.zeros(10)\n",
    "        for seed in range(10):\n",
    "            path = '../' + d + '/resnet34/' + m + '/seed' + str(seed) + '/training.log'\n",
    "            with open(path) as f: l1 = f.readlines()\n",
    "            l2 = re.split('[/ ]',l1[-1])\n",
    "            if m == methods2[0]:\n",
    "                tesA[seed]  = float(l2[position[1,0]])\n",
    "                tesS[seed]  = float(l2[position[1,1]])\n",
    "            if m == methods2[1]:\n",
    "                tesA[seed]  = float(l2[position[2,0]])\n",
    "                tesS[seed]  = float(l2[position[2,1]])\n",
    "                tesMA[seed] = float(l2[position[3,0]])\n",
    "                tesMS[seed] = float(l2[position[3,1]])\n",
    "            if m == methods2[2]:\n",
    "                tesA[seed]  = float(l2[position[4,0]])\n",
    "                tesS[seed]  = float(l2[position[4,1]])\n",
    "                tesMA[seed] = float(l2[position[5,0]])\n",
    "                tesMS[seed] = float(l2[position[5,1]])\n",
    "        if m == methods2[0]:\n",
    "            RES[1,2*dnum,:], RES[1,2*dnum+1,:] = tesA, tesS\n",
    "            MEA[1,2*dnum],   MEA[1,2*dnum+1]   = np.mean(tesA), np.mean(tesS)\n",
    "            STD[1,2*dnum],   STD[1,2*dnum+1]   = np.std(tesA),  np.std(tesS)\n",
    "        if m == methods2[1]:\n",
    "            RES[2,2*dnum,:], RES[2,2*dnum+1,:] = tesA, tesS\n",
    "            MEA[2,2*dnum],   MEA[2,2*dnum+1]   = np.mean(tesA), np.mean(tesS)\n",
    "            STD[2,2*dnum],   STD[2,2*dnum+1]   = np.std(tesA),  np.std(tesS)\n",
    "            #\n",
    "            RES[3,2*dnum,:], RES[3,2*dnum+1,:] = tesMA, tesMS\n",
    "            MEA[3,2*dnum],   MEA[3,2*dnum+1]   = np.mean(tesMA), np.mean(tesMS)\n",
    "            STD[3,2*dnum],   STD[3,2*dnum+1]   = np.std(tesMA),  np.std(tesMS)\n",
    "        if m == methods2[2]:\n",
    "            RES[4,2*dnum,:], RES[4,2*dnum+1,:] = tesA, tesS\n",
    "            MEA[4,2*dnum],   MEA[4,2*dnum+1]   = np.mean(tesA), np.mean(tesS)\n",
    "            STD[4,2*dnum],   STD[4,2*dnum+1]   = np.std(tesA),  np.std(tesS)\n",
    "            #\n",
    "            RES[5,2*dnum,:], RES[5,2*dnum+1,:] = tesMA, tesMS\n",
    "            MEA[5,2*dnum],   MEA[5,2*dnum+1]   = np.mean(tesMA), np.mean(tesMS)\n",
    "            STD[5,2*dnum],   STD[5,2*dnum+1]   = np.std(tesMA),  np.std(tesMS)"
   ]
  },
  {
   "cell_type": "code",
   "execution_count": 7,
   "metadata": {},
   "outputs": [
    {
     "name": "stdout",
     "output_type": "stream",
     "text": [
      "$5.153\\pm0.025$ & $7.266\\pm0.051$ & $5.153\\pm0.025$ & $7.266\\pm0.051$ & $3.316\\pm0.016$ & $4.480\\pm0.018$ & \n",
      "$5.268\\pm0.045$ & $7.341\\pm0.035$ & $5.268\\pm0.045$ & $7.341\\pm0.035$ & $3.327\\pm0.018$ & $4.491\\pm0.015$ & \n",
      "$5.331\\pm0.057$ & $7.528\\pm0.037$ & $5.331\\pm0.057$ & $7.528\\pm0.037$ & $3.359\\pm0.015$ & $4.615\\pm0.028$ & \n",
      "$5.332\\pm0.057$ & $7.460\\pm0.033$ & $5.332\\pm0.057$ & $7.460\\pm0.033$ & $3.359\\pm0.015$ & $4.522\\pm0.017$ & \n",
      "$5.203\\pm0.052$ & $7.360\\pm0.052$ & $5.203\\pm0.052$ & $7.360\\pm0.052$ & $3.375\\pm0.027$ & $4.591\\pm0.025$ & \n",
      "$5.203\\pm0.052$ & $7.347\\pm0.051$ & $5.203\\pm0.052$ & $7.347\\pm0.051$ & $3.375\\pm0.027$ & $4.525\\pm0.025$ & \n"
     ]
    }
   ],
   "source": [
    "for i in range(6):\n",
    "    for j in range(6):\n",
    "        print(\"$%.3f\\pm%.3f$ & \"%(\n",
    "            Decimal(str(MEA[i,j])).quantize(Decimal('0.0001'), rounding=ROUND_HALF_UP),\n",
    "            Decimal(str(STD[i,j])).quantize(Decimal('0.0001'), rounding=ROUND_HALF_UP)),end='')\n",
    "    print(\"\")"
   ]
  },
  {
   "cell_type": "markdown",
   "metadata": {},
   "source": [
    "# Table 2"
   ]
  },
  {
   "cell_type": "code",
   "execution_count": 8,
   "metadata": {},
   "outputs": [],
   "source": [
    "from scipy import stats"
   ]
  },
  {
   "cell_type": "code",
   "execution_count": 9,
   "metadata": {},
   "outputs": [
    {
     "name": "stdout",
     "output_type": "stream",
     "text": [
      "$0.000$ & $0.002$ & $0.000$ & $0.002$ & $0.087$ & $0.106$ & \n",
      "$0.000$ & $0.000$ & $0.000$ & $0.000$ & $0.000$ & $0.000$ & \n",
      "$0.000$ & $0.000$ & $0.000$ & $0.000$ & $0.000$ & $0.000$ & \n",
      "$0.013$ & $0.002$ & $0.013$ & $0.002$ & $0.000$ & $0.000$ & \n",
      "$0.013$ & $0.003$ & $0.013$ & $0.003$ & $0.000$ & $0.001$ & \n"
     ]
    }
   ],
   "source": [
    "for i in range(1,6):\n",
    "    for j in range(6):\n",
    "        print(\"$%.3f$ & \"%stats.mannwhitneyu(RES[0,j,:], RES[i,j,:], alternative='less').pvalue, end='')\n",
    "    print(\"\")"
   ]
  },
  {
   "cell_type": "code",
   "execution_count": null,
   "metadata": {},
   "outputs": [],
   "source": []
  }
 ],
 "metadata": {
  "kernelspec": {
   "display_name": "Python 3",
   "language": "python",
   "name": "python3"
  },
  "language_info": {
   "codemirror_mode": {
    "name": "ipython",
    "version": 3
   },
   "file_extension": ".py",
   "mimetype": "text/x-python",
   "name": "python",
   "nbconvert_exporter": "python",
   "pygments_lexer": "ipython3",
   "version": "3.7.7"
  }
 },
 "nbformat": 4,
 "nbformat_minor": 4
}
